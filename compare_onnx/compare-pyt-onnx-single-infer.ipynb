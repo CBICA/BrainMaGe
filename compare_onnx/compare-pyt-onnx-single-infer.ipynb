{
 "cells": [
  {
   "cell_type": "markdown",
   "metadata": {},
   "source": [
    "## Notebook to compare PyTorch and ONNX output\n",
    "Following are the steps:\n",
    "1. Install ONNX\n",
    "2. Import packages and setup paths\n",
    "3. Get Mask\n",
    "4. Load PyTorch Model\n",
    "5. Run PyTorch Inference\n",
    "6. Convert PyTorch model to ONNX model\n",
    "7. Load ONNX Model\n",
    "8. Run ONNX Inference\n",
    "9. Plot Outputs and compare outputs"
   ]
  },
  {
   "cell_type": "markdown",
   "metadata": {},
   "source": [
    "### Install ONNX"
   ]
  },
  {
   "cell_type": "code",
   "execution_count": 1,
   "metadata": {},
   "outputs": [],
   "source": [
    "# !pip install onnx onnxruntime test-generator==0.1.1"
   ]
  },
  {
   "cell_type": "code",
   "execution_count": 1,
   "metadata": {},
   "outputs": [],
   "source": [
    "import os\n",
    "import sys\n",
    "import torch\n",
    "import numpy as np\n",
    "from BrainMaGe.models.networks import fetch_model\n",
    "from pathlib import Path\n",
    "import matplotlib.pyplot as plt\n",
    "from compare_utils import (\n",
    "    postprocess_prediction,\n",
    "    postprocess_save_output,\n",
    "    dice,\n",
    "    get_mask_image,\n",
    "    get_input_image\n",
    ")"
   ]
  },
  {
   "cell_type": "code",
   "execution_count": 2,
   "metadata": {},
   "outputs": [],
   "source": [
    "brainmage_root = Path('../')\n",
    "\n",
    "input_path = 'sub-A00028185_ses-NFB3_T1w_brain.nii.gz'\n",
    "mask_path= 'sub-A00028185_ses-NFB3_T1w_brainmask.nii.gz'\n",
    "pt_output_path = 'pt-outfile' # PyTorch output file\n",
    "ort_output_path = 'ort-outfile' # ONNX output file\n",
    "\n",
    "pytorch_model_path = brainmage_root / 'BrainMaGe/weights/resunet_ma.pt'\n",
    "onnx_model_path = brainmage_root / 'BrainMaGe/weights/resunet_ma.onnx'\n",
    "\n",
    "device=\"cpu\"\n"
   ]
  },
  {
   "cell_type": "code",
   "execution_count": null,
   "metadata": {},
   "outputs": [],
   "source": []
  },
  {
   "cell_type": "markdown",
   "metadata": {},
   "source": [
    "### Get Mask"
   ]
  },
  {
   "cell_type": "code",
   "execution_count": 3,
   "metadata": {},
   "outputs": [
    {
     "name": "stdout",
     "output_type": "stream",
     "text": [
      "mask_image Image size: (256, 256, 192) , dtype: float32 \n"
     ]
    }
   ],
   "source": [
    "mask_image = get_mask_image(mask_path)\n",
    "print(f\"mask_image Image size: {mask_image.shape} , dtype: {mask_image.dtype} \")"
   ]
  },
  {
   "cell_type": "markdown",
   "metadata": {},
   "source": [
    "### Load PyTorch model"
   ]
  },
  {
   "cell_type": "code",
   "execution_count": 4,
   "metadata": {},
   "outputs": [
    {
     "data": {
      "text/plain": [
       "<All keys matched successfully>"
      ]
     },
     "execution_count": 4,
     "metadata": {},
     "output_type": "execute_result"
    }
   ],
   "source": [
    "pt_model = fetch_model(modelname=\"resunet\", num_channels=1, num_classes=2, num_filters=16)\n",
    "checkpoint = torch.load(pytorch_model_path, map_location=torch.device('cpu'))\n",
    "pt_model.load_state_dict(checkpoint[\"model_state_dict\"])"
   ]
  },
  {
   "cell_type": "markdown",
   "metadata": {},
   "source": [
    "### Run PyTorch Inference"
   ]
  },
  {
   "cell_type": "code",
   "execution_count": 5,
   "metadata": {},
   "outputs": [
    {
     "name": "stdout",
     "output_type": "stream",
     "text": [
      "patient_nib Image size: (256, 256, 192) \n",
      "Input Image size: torch.Size([1, 1, 128, 128, 128]) , dtype: torch.float32 \n",
      "Output Image size: (128, 128, 128) , dtype: float32 \n",
      "to_save Image size: (256, 256, 192) , dtype: float32 \n",
      "Output saved at:  pt-outfile\n"
     ]
    }
   ],
   "source": [
    "_ = pt_model.eval()\n",
    "\n",
    "input_image, patient_nib = get_input_image(input_path)\n",
    "print(f\"patient_nib Image size: {patient_nib.shape} \")\n",
    "print(f\"Input Image size: {input_image.shape} , dtype: {input_image.dtype} \")\n",
    "\n",
    "with torch.no_grad():\n",
    "    pt_output = pt_model(input_image)\n",
    "    pt_output = pt_output.cpu().numpy()[0][0]\n",
    "    print(f\"Output Image size: {pt_output.shape} , dtype: {pt_output.dtype} \")\n",
    "    \n",
    "    pt_to_save, pt_save_nib = postprocess_save_output(pt_output, patient_nib, pt_output_path)\n",
    "\n"
   ]
  },
  {
   "cell_type": "code",
   "execution_count": 6,
   "metadata": {},
   "outputs": [
    {
     "name": "stdout",
     "output_type": "stream",
     "text": [
      "PyTorch model Dice Score:  1.0\n"
     ]
    }
   ],
   "source": [
    "\n",
    "pt_dice_score = dice(pt_to_save, mask_image)\n",
    "print(\"PyTorch model Dice Score: \", pt_dice_score)"
   ]
  },
  {
   "cell_type": "markdown",
   "metadata": {},
   "source": [
    "### Convert PyTorch model to ONNX model"
   ]
  },
  {
   "cell_type": "code",
   "execution_count": 7,
   "metadata": {},
   "outputs": [],
   "source": [
    "dummy_input = torch.randn(1, 1, 128, 128, 128)\n",
    "torch.onnx.export(pt_model, (dummy_input, ), onnx_model_path, opset_version=11)"
   ]
  },
  {
   "cell_type": "code",
   "execution_count": 8,
   "metadata": {},
   "outputs": [
    {
     "name": "stdout",
     "output_type": "stream",
     "text": [
      "-rw-rw-r-- 1 sdp sdp 33182947 Jul  7 13:47 ../BrainMaGe/weights/resunet_ma.onnx\n"
     ]
    }
   ],
   "source": [
    "!ls -l $onnx_model_path"
   ]
  },
  {
   "cell_type": "markdown",
   "metadata": {},
   "source": [
    "### Load ONNX model"
   ]
  },
  {
   "cell_type": "code",
   "execution_count": 9,
   "metadata": {},
   "outputs": [],
   "source": [
    "import onnxruntime\n",
    "\n",
    "onnx_model = onnxruntime.InferenceSession(str(onnx_model_path))\n",
    "ort_inputs_name = onnx_model.get_inputs()[0].name\n",
    "ort_ouputs_names = [out.name for out in onnx_model.get_outputs()]"
   ]
  },
  {
   "cell_type": "markdown",
   "metadata": {},
   "source": [
    "### Run ONNX Inference"
   ]
  },
  {
   "cell_type": "code",
   "execution_count": 10,
   "metadata": {},
   "outputs": [
    {
     "name": "stdout",
     "output_type": "stream",
     "text": [
      "patient_nib Image size: (256, 256, 192) \n",
      "Input Image size: torch.Size([1, 1, 128, 128, 128]) , dtype: torch.float32 \n",
      "ort_output size: (128, 128, 128) , dtype: float32 \n",
      "to_save Image size: (256, 256, 192) , dtype: float32 \n",
      "Output saved at:  ort-outfile\n"
     ]
    }
   ],
   "source": [
    "input_image, patient_nib = get_input_image(input_path)\n",
    "print(f\"patient_nib Image size: {patient_nib.shape} \")\n",
    "print(f\"Input Image size: {input_image.shape} , dtype: {input_image.dtype} \")\n",
    "\n",
    "input_image = input_image.detach().cpu().numpy()\n",
    "ort_output = onnx_model.run(ort_ouputs_names, {ort_inputs_name: input_image })\n",
    "ort_output = ort_output[0][0][0]\n",
    "\n",
    "print(f\"ort_output size: {ort_output.shape} , dtype: {ort_output.dtype} \")\n",
    "\n",
    "ort_to_save, ort_to_save_nib = postprocess_save_output(ort_output, patient_nib, ort_output_path)"
   ]
  },
  {
   "cell_type": "code",
   "execution_count": 11,
   "metadata": {},
   "outputs": [
    {
     "name": "stdout",
     "output_type": "stream",
     "text": [
      "ONNX Dice Score:  0.0029510418045702604\n"
     ]
    }
   ],
   "source": [
    "ort_dice_score = dice(ort_to_save, mask_image)\n",
    "print(\"ONNX Dice Score: \", ort_dice_score)"
   ]
  },
  {
   "cell_type": "markdown",
   "metadata": {},
   "source": [
    "### PyTorch Dice vs ONNX Dice"
   ]
  },
  {
   "cell_type": "code",
   "execution_count": 12,
   "metadata": {},
   "outputs": [
    {
     "name": "stdout",
     "output_type": "stream",
     "text": [
      "PyTorch Dice Score:  1.0\n",
      "ONNX Dice Score:  0.0029510418045702604\n"
     ]
    }
   ],
   "source": [
    "print(\"PyTorch Dice Score: \", pt_dice_score)\n",
    "print(\"ONNX Dice Score: \", ort_dice_score)"
   ]
  },
  {
   "cell_type": "markdown",
   "metadata": {},
   "source": [
    "### Plot Outputs"
   ]
  },
  {
   "cell_type": "code",
   "execution_count": 20,
   "metadata": {},
   "outputs": [
    {
     "data": {
      "image/png": "[encoded data removed]",
      "text/plain": [
       "<Figure size 432x288 with 3 Axes>"
      ]
     },
     "metadata": {
      "needs_background": "light"
     },
     "output_type": "display_data"
    }
   ],
   "source": [
    "import matplotlib.pyplot as plt\n",
    "\n",
    "fig, (ax1, ax2, ax3) = plt.subplots(1, 3)\n",
    "ax1.imshow(mask_image[:,:,100])\n",
    "ax1.set_title('Mask Image')\n",
    "\n",
    "ax2.imshow(pt_to_save[:,:,100])\n",
    "ax2.set_title('PyTorch Output')\n",
    "\n",
    "ax3.imshow(ort_to_save[:,:,100])\n",
    "_ = ax3.set_title('ONNX Output')"
   ]
  },
  {
   "cell_type": "code",
   "execution_count": 14,
   "metadata": {},
   "outputs": [
    {
     "name": "stdout",
     "output_type": "stream",
     "text": [
      "mask_counts: Counter({0.0: 12579475, 1.0: 3437})\n",
      "pt_counts: Counter({0.0: 12579475, 1.0: 3437})\n",
      "ort_counts: Counter({0.0: 10304443, 1.0: 2278469})\n"
     ]
    }
   ],
   "source": [
    "from collections import Counter\n",
    "\n",
    "mask_counts = Counter(mask_image.flatten())\n",
    "pt_counts = Counter(pt_to_save.flatten())\n",
    "ort_counts = Counter(ort_to_save.flatten())\n",
    "print(\"mask_counts:\", mask_counts)\n",
    "print(\"pt_counts:\", pt_counts)\n",
    "print(\"ort_counts:\", ort_counts)"
   ]
  },
  {
   "cell_type": "code",
   "execution_count": null,
   "metadata": {},
   "outputs": [],
   "source": []
  },
  {
   "cell_type": "code",
   "execution_count": null,
   "metadata": {},
   "outputs": [],
   "source": []
  }
 ],
 "metadata": {
  "kernelspec": {
   "display_name": "Python 3",
   "language": "python",
   "name": "python3"
  },
  "language_info": {
   "codemirror_mode": {
    "name": "ipython",
    "version": 3
   },
   "file_extension": ".py",
   "mimetype": "text/x-python",
   "name": "python",
   "nbconvert_exporter": "python",
   "pygments_lexer": "ipython3",
   "version": "3.6.10"
  }
 },
 "nbformat": 4,
 "nbformat_minor": 4
}
