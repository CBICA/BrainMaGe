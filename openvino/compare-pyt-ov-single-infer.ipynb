{
 "cells": [
  {
   "cell_type": "markdown",
   "metadata": {},
   "source": [
    "## Notebook to compare PyTorch and OpenVINO output\n",
    "Following are the steps:\n",
    "\n",
    "1. Import packages and setup paths\n",
    "1. Get Mask\n",
    "1. Load PyTorch Model\n",
    "1. Run PyTorch Inference\n",
    "1. Convert PyTorch model to OpenVINO model\n",
    "1. Load OpenVINO Model\n",
    "1. Run OpenVINO Inference\n",
    "1. Plot Outputs and compare outputs"
   ]
  },
  {
   "cell_type": "code",
   "execution_count": null,
   "metadata": {},
   "outputs": [],
   "source": []
  },
  {
   "cell_type": "code",
   "execution_count": 1,
   "metadata": {},
   "outputs": [],
   "source": [
    "import os\n",
    "import sys\n",
    "import torch\n",
    "import numpy as np\n",
    "from BrainMaGe.models.networks import fetch_model\n",
    "from pathlib import Path\n",
    "import matplotlib.pyplot as plt\n",
    "from compare_utils import (\n",
    "    postprocess_prediction,\n",
    "    postprocess_save_output,\n",
    "    dice,\n",
    "    get_mask_image,\n",
    "    get_input_image\n",
    ")\n",
    "from timeit import default_timer as timer\n",
    "from datetime import timedelta"
   ]
  },
  {
   "cell_type": "code",
   "execution_count": 20,
   "metadata": {},
   "outputs": [],
   "source": [
    "brainmage_root = Path('../')\n",
    "\n",
    "input_path = '../compare_onnx/sub-A00028185_ses-NFB3_T1w_brain.nii.gz'\n",
    "mask_path= '../compare_onnx/sub-A00028185_ses-NFB3_T1w_brainmask.nii.gz'\n",
    "pt_output_path = 'pt-outfile' # PyTorch output file\n",
    "ov_output_path = 'ov-outfile' # ONNX output file\n",
    "\n",
    "pytorch_model_path = brainmage_root / 'BrainMaGe/weights/resunet_ma.pt'\n",
    "ov_model_dir = brainmage_root / 'BrainMaGe/weights/ov/fp32/'\n",
    "\n",
    "device=\"cpu\"\n"
   ]
  },
  {
   "cell_type": "code",
   "execution_count": null,
   "metadata": {},
   "outputs": [],
   "source": []
  },
  {
   "cell_type": "markdown",
   "metadata": {},
   "source": [
    "### Get Mask"
   ]
  },
  {
   "cell_type": "code",
   "execution_count": 3,
   "metadata": {},
   "outputs": [
    {
     "name": "stdout",
     "output_type": "stream",
     "text": [
      "mask_image Image size: (256, 256, 192) , dtype: float32 \n"
     ]
    }
   ],
   "source": [
    "mask_image = get_mask_image(mask_path)\n",
    "print(f\"mask_image Image size: {mask_image.shape} , dtype: {mask_image.dtype} \")"
   ]
  },
  {
   "cell_type": "markdown",
   "metadata": {},
   "source": [
    "### Load PyTorch model"
   ]
  },
  {
   "cell_type": "code",
   "execution_count": 4,
   "metadata": {},
   "outputs": [
    {
     "data": {
      "text/plain": [
       "<All keys matched successfully>"
      ]
     },
     "execution_count": 4,
     "metadata": {},
     "output_type": "execute_result"
    }
   ],
   "source": [
    "pt_model = fetch_model(modelname=\"resunet\", num_channels=1, num_classes=2, num_filters=16)\n",
    "checkpoint = torch.load(pytorch_model_path, map_location=torch.device('cpu'))\n",
    "pt_model.load_state_dict(checkpoint[\"model_state_dict\"])"
   ]
  },
  {
   "cell_type": "markdown",
   "metadata": {},
   "source": [
    "### Run PyTorch Inference"
   ]
  },
  {
   "cell_type": "code",
   "execution_count": 5,
   "metadata": {},
   "outputs": [
    {
     "name": "stdout",
     "output_type": "stream",
     "text": [
      "patient_nib Image size: (256, 256, 192) \n",
      "Input Image size: torch.Size([1, 1, 128, 128, 128]) , dtype: torch.float32 \n",
      "PyTorch Inference time: 8.417 seconds\n",
      "Output Image size: (128, 128, 128) , dtype: float32 \n",
      "to_save Image size: (256, 256, 192) , dtype: float32 \n",
      "Output saved at:  pt-outfile\n"
     ]
    }
   ],
   "source": [
    "_ = pt_model.eval()\n",
    "\n",
    "input_image, patient_nib = get_input_image(input_path)\n",
    "print(f\"patient_nib Image size: {patient_nib.shape} \")\n",
    "print(f\"Input Image size: {input_image.shape} , dtype: {input_image.dtype} \")\n",
    "\n",
    "with torch.no_grad():\n",
    "    start = timer()\n",
    "    pt_output = pt_model(input_image)\n",
    "    end = timer()\n",
    "    print(f\"PyTorch Inference time: {end-start:.3f} seconds\")\n",
    "    \n",
    "    pt_output = pt_output.cpu().numpy()[0][0]\n",
    "    print(f\"Output Image size: {pt_output.shape} , dtype: {pt_output.dtype} \")\n",
    "    \n",
    "    pt_to_save, pt_save_nib = postprocess_save_output(pt_output, patient_nib, pt_output_path)\n",
    "\n"
   ]
  },
  {
   "cell_type": "code",
   "execution_count": 6,
   "metadata": {},
   "outputs": [
    {
     "name": "stdout",
     "output_type": "stream",
     "text": [
      "PyTorch model Dice Score:  1.0\n"
     ]
    }
   ],
   "source": [
    "pt_dice_score = dice(pt_to_save, mask_image)\n",
    "print(\"PyTorch model Dice Score: \", pt_dice_score)"
   ]
  },
  {
   "cell_type": "code",
   "execution_count": 7,
   "metadata": {},
   "outputs": [
    {
     "name": "stdout",
     "output_type": "stream",
     "text": [
      "PyTorch model Dice Score:  1.0\n"
     ]
    }
   ],
   "source": [
    "\n",
    "pt_dice_score = dice(pt_to_save, mask_image)\n",
    "print(\"PyTorch model Dice Score: \", pt_dice_score)"
   ]
  },
  {
   "cell_type": "markdown",
   "metadata": {},
   "source": [
    "### Convert PyTorch model to OpenVINO IR"
   ]
  },
  {
   "cell_type": "code",
   "execution_count": 13,
   "metadata": {
    "collapsed": true,
    "jupyter": {
     "outputs_hidden": true
    }
   },
   "outputs": [
    {
     "name": "stdout",
     "output_type": "stream",
     "text": [
      "Model Optimizer arguments:\n",
      "Common parameters:\n",
      "\t- Path to the Input Model: \tresunet(\n",
      "  (ins): in_conv(\n",
      "    (dropout): Dropout3d(p=0.3, inplace=False)\n",
      "    (in_0): InstanceNorm3d(16, eps=1e-05, momentum=0.1, affine=True, track_running_stats=True)\n",
      "    (in_1): InstanceNorm3d(16, eps=1e-05, momentum=0.1, affine=True, track_running_stats=True)\n",
      "    (conv0): Conv3d(1, 16, kernel_size=(3, 3, 3), stride=(1, 1, 1), padding=(1, 1, 1))\n",
      "    (conv1): Conv3d(16, 16, kernel_size=(3, 3, 3), stride=(1, 1, 1), padding=(1, 1, 1))\n",
      "    (conv2): Conv3d(16, 16, kernel_size=(3, 3, 3), stride=(1, 1, 1), padding=(1, 1, 1))\n",
      "  )\n",
      "  (ds_0): DownsamplingModule(\n",
      "    (in_0): InstanceNorm3d(32, eps=1e-05, momentum=0.1, affine=True, track_running_stats=True)\n",
      "    (conv0): Conv3d(16, 32, kernel_size=(3, 3, 3), stride=(2, 2, 2), padding=(1, 1, 1))\n",
      "  )\n",
      "  (en_1): EncodingModule(\n",
      "    (dropout): Dropout3d(p=0.3, inplace=False)\n",
      "    (in_0): InstanceNorm3d(32, eps=1e-05, momentum=0.1, affine=True, track_running_stats=True)\n",
      "    (in_1): InstanceNorm3d(32, eps=1e-05, momentum=0.1, affine=True, track_running_stats=True)\n",
      "    (conv0): Conv3d(32, 32, kernel_size=(3, 3, 3), stride=(1, 1, 1), padding=(1, 1, 1))\n",
      "    (conv1): Conv3d(32, 32, kernel_size=(3, 3, 3), stride=(1, 1, 1), padding=(1, 1, 1))\n",
      "  )\n",
      "  (ds_1): DownsamplingModule(\n",
      "    (in_0): InstanceNorm3d(64, eps=1e-05, momentum=0.1, affine=True, track_running_stats=True)\n",
      "    (conv0): Conv3d(32, 64, kernel_size=(3, 3, 3), stride=(2, 2, 2), padding=(1, 1, 1))\n",
      "  )\n",
      "  (en_2): EncodingModule(\n",
      "    (dropout): Dropout3d(p=0.3, inplace=False)\n",
      "    (in_0): InstanceNorm3d(64, eps=1e-05, momentum=0.1, affine=True, track_running_stats=True)\n",
      "    (in_1): InstanceNorm3d(64, eps=1e-05, momentum=0.1, affine=True, track_running_stats=True)\n",
      "    (conv0): Conv3d(64, 64, kernel_size=(3, 3, 3), stride=(1, 1, 1), padding=(1, 1, 1))\n",
      "    (conv1): Conv3d(64, 64, kernel_size=(3, 3, 3), stride=(1, 1, 1), padding=(1, 1, 1))\n",
      "  )\n",
      "  (ds_2): DownsamplingModule(\n",
      "    (in_0): InstanceNorm3d(128, eps=1e-05, momentum=0.1, affine=True, track_running_stats=True)\n",
      "    (conv0): Conv3d(64, 128, kernel_size=(3, 3, 3), stride=(2, 2, 2), padding=(1, 1, 1))\n",
      "  )\n",
      "  (en_3): EncodingModule(\n",
      "    (dropout): Dropout3d(p=0.3, inplace=False)\n",
      "    (in_0): InstanceNorm3d(128, eps=1e-05, momentum=0.1, affine=True, track_running_stats=True)\n",
      "    (in_1): InstanceNorm3d(128, eps=1e-05, momentum=0.1, affine=True, track_running_stats=True)\n",
      "    (conv0): Conv3d(128, 128, kernel_size=(3, 3, 3), stride=(1, 1, 1), padding=(1, 1, 1))\n",
      "    (conv1): Conv3d(128, 128, kernel_size=(3, 3, 3), stride=(1, 1, 1), padding=(1, 1, 1))\n",
      "  )\n",
      "  (ds_3): DownsamplingModule(\n",
      "    (in_0): InstanceNorm3d(256, eps=1e-05, momentum=0.1, affine=True, track_running_stats=True)\n",
      "    (conv0): Conv3d(128, 256, kernel_size=(3, 3, 3), stride=(2, 2, 2), padding=(1, 1, 1))\n",
      "  )\n",
      "  (en_4): EncodingModule(\n",
      "    (dropout): Dropout3d(p=0.3, inplace=False)\n",
      "    (in_0): InstanceNorm3d(256, eps=1e-05, momentum=0.1, affine=True, track_running_stats=True)\n",
      "    (in_1): InstanceNorm3d(256, eps=1e-05, momentum=0.1, affine=True, track_running_stats=True)\n",
      "    (conv0): Conv3d(256, 256, kernel_size=(3, 3, 3), stride=(1, 1, 1), padding=(1, 1, 1))\n",
      "    (conv1): Conv3d(256, 256, kernel_size=(3, 3, 3), stride=(1, 1, 1), padding=(1, 1, 1))\n",
      "  )\n",
      "  (us_3): UpsamplingModule(\n",
      "    (interpolate): Interpolate()\n",
      "    (conv0): Conv3d(256, 128, kernel_size=(1, 1, 1), stride=(1, 1, 1))\n",
      "  )\n",
      "  (de_3): DecodingModule(\n",
      "    (in_0): InstanceNorm3d(256, eps=1e-05, momentum=0.1, affine=True, track_running_stats=True)\n",
      "    (in_1): InstanceNorm3d(128, eps=1e-05, momentum=0.1, affine=True, track_running_stats=True)\n",
      "    (in_2): InstanceNorm3d(128, eps=1e-05, momentum=0.1, affine=True, track_running_stats=True)\n",
      "    (conv0): Conv3d(256, 128, kernel_size=(3, 3, 3), stride=(1, 1, 1), padding=(1, 1, 1))\n",
      "    (conv1): Conv3d(128, 128, kernel_size=(3, 3, 3), stride=(1, 1, 1), padding=(1, 1, 1))\n",
      "    (conv2): Conv3d(128, 128, kernel_size=(3, 3, 3), stride=(1, 1, 1), padding=(1, 1, 1))\n",
      "  )\n",
      "  (us_2): UpsamplingModule(\n",
      "    (interpolate): Interpolate()\n",
      "    (conv0): Conv3d(128, 64, kernel_size=(1, 1, 1), stride=(1, 1, 1))\n",
      "  )\n",
      "  (de_2): DecodingModule(\n",
      "    (in_0): InstanceNorm3d(128, eps=1e-05, momentum=0.1, affine=True, track_running_stats=True)\n",
      "    (in_1): InstanceNorm3d(64, eps=1e-05, momentum=0.1, affine=True, track_running_stats=True)\n",
      "    (in_2): InstanceNorm3d(64, eps=1e-05, momentum=0.1, affine=True, track_running_stats=True)\n",
      "    (conv0): Conv3d(128, 64, kernel_size=(3, 3, 3), stride=(1, 1, 1), padding=(1, 1, 1))\n",
      "    (conv1): Conv3d(64, 64, kernel_size=(3, 3, 3), stride=(1, 1, 1), padding=(1, 1, 1))\n",
      "    (conv2): Conv3d(64, 64, kernel_size=(3, 3, 3), stride=(1, 1, 1), padding=(1, 1, 1))\n",
      "  )\n",
      "  (us_1): UpsamplingModule(\n",
      "    (interpolate): Interpolate()\n",
      "    (conv0): Conv3d(64, 32, kernel_size=(1, 1, 1), stride=(1, 1, 1))\n",
      "  )\n",
      "  (de_1): DecodingModule(\n",
      "    (in_0): InstanceNorm3d(64, eps=1e-05, momentum=0.1, affine=True, track_running_stats=True)\n",
      "    (in_1): InstanceNorm3d(32, eps=1e-05, momentum=0.1, affine=True, track_running_stats=True)\n",
      "    (in_2): InstanceNorm3d(32, eps=1e-05, momentum=0.1, affine=True, track_running_stats=True)\n",
      "    (conv0): Conv3d(64, 32, kernel_size=(3, 3, 3), stride=(1, 1, 1), padding=(1, 1, 1))\n",
      "    (conv1): Conv3d(32, 32, kernel_size=(3, 3, 3), stride=(1, 1, 1), padding=(1, 1, 1))\n",
      "    (conv2): Conv3d(32, 32, kernel_size=(3, 3, 3), stride=(1, 1, 1), padding=(1, 1, 1))\n",
      "  )\n",
      "  (us_0): UpsamplingModule(\n",
      "    (interpolate): Interpolate()\n",
      "    (conv0): Conv3d(32, 16, kernel_size=(1, 1, 1), stride=(1, 1, 1))\n",
      "  )\n",
      "  (out): out_conv(\n",
      "    (in_0): InstanceNorm3d(32, eps=1e-05, momentum=0.1, affine=True, track_running_stats=True)\n",
      "    (in_1): InstanceNorm3d(16, eps=1e-05, momentum=0.1, affine=True, track_running_stats=True)\n",
      "    (in_2): InstanceNorm3d(16, eps=1e-05, momentum=0.1, affine=True, track_running_stats=True)\n",
      "    (in_3): InstanceNorm3d(16, eps=1e-05, momentum=0.1, affine=True, track_running_stats=True)\n",
      "    (conv0): Conv3d(32, 16, kernel_size=(3, 3, 3), stride=(1, 1, 1), padding=(1, 1, 1))\n",
      "    (conv1): Conv3d(16, 16, kernel_size=(3, 3, 3), stride=(1, 1, 1), padding=(1, 1, 1))\n",
      "    (conv2): Conv3d(16, 16, kernel_size=(3, 3, 3), stride=(1, 1, 1), padding=(1, 1, 1))\n",
      "    (conv3): Conv3d(16, 1, kernel_size=(1, 1, 1), stride=(1, 1, 1))\n",
      "  )\n",
      ")\n",
      "\t- Path for generated IR: \t/home/sdp/ravi/upenn/BrainMaGe/ravi/.\n",
      "\t- IR output name: \t../BrainMaGe/weights/ov/fp32/resunet_ma\n",
      "\t- Log level: \tERROR\n",
      "\t- Batch: \tNot specified, inherited from the model\n",
      "\t- Input layers: \tNot specified, inherited from the model\n",
      "\t- Output layers: \tNot specified, inherited from the model\n",
      "\t- Input shapes: \t[1, 1, 128, 128, 128]\n",
      "\t- Mean values: \tNot specified\n",
      "\t- Scale values: \tNot specified\n",
      "\t- Scale factor: \tNot specified\n",
      "\t- Precision of IR: \tFP32\n",
      "\t- Enable fusing: \tTrue\n",
      "\t- Enable grouped convolutions fusing: \tTrue\n",
      "\t- Move mean values to preprocess section: \tNone\n",
      "\t- Reverse input channels: \tFalse\n",
      "[ WARNING ]  Using fallback to produce IR.\n",
      "[ SUCCESS ] Generated IR version 10 model.\n",
      "[ SUCCESS ] XML file: /home/sdp/ravi/upenn/BrainMaGe/BrainMaGe/weights/ov/fp32/resunet_ma.xml\n",
      "[ SUCCESS ] BIN file: /home/sdp/ravi/upenn/BrainMaGe/BrainMaGe/weights/ov/fp32/resunet_ma.bin\n",
      "[ SUCCESS ] Total execution time: 19.01 seconds. \n",
      "[ SUCCESS ] Memory consumed: 9257 MB. \n",
      "Traceback (most recent call last):\n",
      "  File \"export-to-ov.py\", line 30, in <module>\n",
      "    net = ie.read_network('model.xml')\n",
      "  File \"ie_api.pyx\", line 324, in openvino.inference_engine.ie_api.IECore.read_network\n",
      "  File \"ie_api.pyx\", line 337, in openvino.inference_engine.ie_api.IECore.read_network\n",
      "Exception: Path to the model model.xml doesn't exist or it's a directory\n"
     ]
    }
   ],
   "source": [
    "!python export-to-ov.py"
   ]
  },
  {
   "cell_type": "code",
   "execution_count": 18,
   "metadata": {},
   "outputs": [
    {
     "name": "stdout",
     "output_type": "stream",
     "text": [
      "../BrainMaGe/weights/ov/fp32\n",
      "total 32540\n",
      "-rw-rw-r-- 1 sdp sdp 33152004 Jul  8 14:28 resunet_ma.bin\n",
      "-rw-rw-r-- 1 sdp sdp    16759 Jul  8 14:28 resunet_ma.mapping\n",
      "-rw-rw-r-- 1 sdp sdp   145170 Jul  8 14:28 resunet_ma.xml\n"
     ]
    }
   ],
   "source": [
    "print(ov_model_dir)\n",
    "!ls -l $ov_model_dir"
   ]
  },
  {
   "cell_type": "markdown",
   "metadata": {},
   "source": [
    "#### Load OpenVINO model"
   ]
  },
  {
   "cell_type": "code",
   "execution_count": 21,
   "metadata": {},
   "outputs": [],
   "source": [
    "ov_model_name = \"resunet_ma\" "
   ]
  },
  {
   "cell_type": "code",
   "execution_count": 22,
   "metadata": {},
   "outputs": [],
   "source": [
    "from openvino.inference_engine import IECore\n",
    "\n",
    "model_xml = f'{ov_model_dir}/{ov_model_name}.xml'\n",
    "model_bin = f'{ov_model_dir}/{ov_model_name}.bin'\n",
    "\n",
    "# Load network to the plugin\n",
    "ie = IECore()\n",
    "net = ie.read_network(model=model_xml, weights=model_bin)\n",
    "exec_net = ie.load_network(network=net, device_name=\"CPU\")\n",
    "del net\n",
    "\n",
    "input_layer = next(iter(exec_net.input_info))\n",
    "output_layer = next(iter(exec_net.outputs))\n",
    "\n"
   ]
  },
  {
   "cell_type": "code",
   "execution_count": 23,
   "metadata": {},
   "outputs": [
    {
     "data": {
      "text/plain": [
       "'input'"
      ]
     },
     "execution_count": 23,
     "metadata": {},
     "output_type": "execute_result"
    }
   ],
   "source": [
    "input_layer"
   ]
  },
  {
   "cell_type": "markdown",
   "metadata": {},
   "source": [
    "#### Run OpenVINO Inference"
   ]
  },
  {
   "cell_type": "code",
   "execution_count": 15,
   "metadata": {},
   "outputs": [
    {
     "name": "stdout",
     "output_type": "stream",
     "text": [
      "OpenVINO Inference time: 0.204 seconds\n"
     ]
    }
   ],
   "source": [
    "input_image, patient_nib = get_input_image(input_path)\n",
    "\n",
    "#Run the Inference on the Input image...\n",
    "start = timer()\n",
    "ov_output = exec_net.infer(inputs={input_layer: input_image})\n",
    "end = timer()\n",
    "print(f\"OpenVINO Inference time: {end-start:.3f} seconds\")\n",
    "\n",
    "ov_output = ov_output[output_layer][0][0]"
   ]
  },
  {
   "cell_type": "code",
   "execution_count": 16,
   "metadata": {},
   "outputs": [
    {
     "name": "stdout",
     "output_type": "stream",
     "text": [
      "ov_output size: (128, 128, 128) , dtype: float32 \n"
     ]
    }
   ],
   "source": [
    "print(f\"ov_output size: {ov_output.shape} , dtype: {ov_output.dtype} \")"
   ]
  },
  {
   "cell_type": "code",
   "execution_count": 17,
   "metadata": {},
   "outputs": [
    {
     "name": "stdout",
     "output_type": "stream",
     "text": [
      "to_save Image size: (256, 256, 192) , dtype: float32 \n",
      "Output saved at:  ov-outfile\n"
     ]
    }
   ],
   "source": [
    "ov_to_save, ov_to_save_nib = postprocess_save_output(ov_output, patient_nib, ov_output_path)"
   ]
  },
  {
   "cell_type": "code",
   "execution_count": 19,
   "metadata": {},
   "outputs": [
    {
     "name": "stdout",
     "output_type": "stream",
     "text": [
      "OV Dice Score:  1.0\n"
     ]
    }
   ],
   "source": [
    "ov_dice_score = dice(ov_to_save, mask_image)\n",
    "print(\"OV Dice Score: \", ov_dice_score)"
   ]
  },
  {
   "cell_type": "markdown",
   "metadata": {},
   "source": [
    "### PyTorch Dice vs ONNX Dice"
   ]
  },
  {
   "cell_type": "code",
   "execution_count": 20,
   "metadata": {},
   "outputs": [
    {
     "name": "stdout",
     "output_type": "stream",
     "text": [
      "PyTorch Dice Score:  1.0\n",
      "ONNX Dice Score:  1.0\n"
     ]
    }
   ],
   "source": [
    "print(\"PyTorch Dice Score: \", pt_dice_score)\n",
    "print(\"ONNX Dice Score: \", ov_dice_score)"
   ]
  },
  {
   "cell_type": "markdown",
   "metadata": {},
   "source": [
    "### Plot Outputs"
   ]
  },
  {
   "cell_type": "code",
   "execution_count": 21,
   "metadata": {},
   "outputs": [
    {
     "data": {
      "image/png": "[encoded data removed]",
      "text/plain": [
       "<Figure size 432x288 with 3 Axes>"
      ]
     },
     "metadata": {
      "needs_background": "light"
     },
     "output_type": "display_data"
    }
   ],
   "source": [
    "import matplotlib.pyplot as plt\n",
    "\n",
    "fig, (ax1, ax2, ax3) = plt.subplots(1, 3)\n",
    "ax1.imshow(mask_image[:,:,100])\n",
    "ax1.set_title('Mask Image')\n",
    "\n",
    "ax2.imshow(pt_to_save[:,:,100])\n",
    "ax2.set_title('PyTorch Output')\n",
    "\n",
    "ax3.imshow(ov_to_save[:,:,100])\n",
    "_ = ax3.set_title('OV Output')"
   ]
  },
  {
   "cell_type": "code",
   "execution_count": 23,
   "metadata": {},
   "outputs": [
    {
     "name": "stdout",
     "output_type": "stream",
     "text": [
      "mask_counts: Counter({0.0: 12579475, 1.0: 3437})\n",
      "pt_counts: Counter({0.0: 12579475, 1.0: 3437})\n",
      "ort_counts: Counter({0.0: 12579475, 1.0: 3437})\n"
     ]
    }
   ],
   "source": [
    "from collections import Counter\n",
    "\n",
    "mask_counts = Counter(mask_image.flatten())\n",
    "pt_counts = Counter(pt_to_save.flatten())\n",
    "ov_counts = Counter(ov_to_save.flatten())\n",
    "print(\"mask_counts:\", mask_counts)\n",
    "print(\"pt_counts:\", pt_counts)\n",
    "print(\"ort_counts:\", ov_counts)"
   ]
  },
  {
   "cell_type": "code",
   "execution_count": null,
   "metadata": {},
   "outputs": [],
   "source": []
  }
 ],
 "metadata": {
  "kernelspec": {
   "display_name": "Python 3",
   "language": "python",
   "name": "python3"
  },
  "language_info": {
   "codemirror_mode": {
    "name": "ipython",
    "version": 3
   },
   "file_extension": ".py",
   "mimetype": "text/x-python",
   "name": "python",
   "nbconvert_exporter": "python",
   "pygments_lexer": "ipython3",
   "version": "3.6.10"
  }
 },
 "nbformat": 4,
 "nbformat_minor": 4
}
